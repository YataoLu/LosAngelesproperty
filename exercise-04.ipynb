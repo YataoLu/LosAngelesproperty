{
 "cells": [
  {
   "cell_type": "markdown",
   "metadata": {},
   "source": [
    "# Exercise 04 - Due Friday, October 21 at 12pm\n",
    "\n",
    "*Objectives*: Gain experience loading a CSV dataset into a database model you define yourself and using SQL to explore its contents. Explore the data by writing and executing a number of SQL queries using common syntax and functions and describing your findings.\n",
    "\n",
    "*Grading criteria*: The tasks should all be completed, and questions should all be answered with SQL queries in the space provided, unless a text answer is requested. Results should be correct, according to the embedded tests. The notebook itself should be completely reproducible; from start to finish, another person should be able to use the same code to obtain the same results as yours.  Note that you will receive no more than partial credit if you do not add text/markdown cells explaining your thinking at each major step in each problem.\n",
    "\n",
    "*Deadline*: Friday, October 21, 12pm. Submit your notebook to Blackboard and push it to your GitHub repository.\n",
    "\n",
    "## Setup - obtain data and create database\n",
    "\n",
    "The US City Open Data Census has data on [restaurant inspections from all over the country](http://us-city.census.okfn.org/dataset/food-safety).  Let's take a look at data from Albuquerque.  *Note*: metadata and other details for this dataset are available at http://data.cabq.gov/business/foodinspections/.\n",
    "\n",
    "Fyi, to save you a step, I've converted this file into a clean CSV file by using the `dos2unix` command to change its line endings and to switch it to use commas instead of tabs using `csvformat -t inputfile.csv > outputfile.csv`.\n",
    "\n",
    "First we download the dataset:"
   ]
  },
  {
   "cell_type": "code",
   "execution_count": null,
   "metadata": {
    "collapsed": false
   },
   "outputs": [],
   "source": [
    "!wget https://raw.githubusercontent.com/gwsb-istm-6212-fall-2016/syllabus-and-schedule/master/exercises/abq-food-inspections-fy2010.csv"
   ]
  },
  {
   "cell_type": "markdown",
   "metadata": {},
   "source": [
    "## Problem 1 - examine the data (35 points)\n",
    "\n",
    "Use `csvstat` and other tools as you see fit and observe its contents.  Review the metadata definitions linked to above.  Describe what you see:  What do all the columns mean?  Are there null values?  Which columns interest you the most?  Which columns present some complications or questions you would like to ask?"
   ]
  },
  {
   "cell_type": "markdown",
   "metadata": {},
   "source": [
    "Insert a combination of code and text/markdown cells here to review the data and describe what you find."
   ]
  },
  {
   "cell_type": "code",
   "execution_count": null,
   "metadata": {
    "collapsed": false
   },
   "outputs": [],
   "source": [
    "!mv abq-food-inspections-fy2010.csv food.csv"
   ]
  },
  {
   "cell_type": "code",
   "execution_count": null,
   "metadata": {
    "collapsed": false
   },
   "outputs": [],
   "source": [
    "!csvcut -n food.csv"
   ]
  },
  {
   "cell_type": "code",
   "execution_count": null,
   "metadata": {
    "collapsed": false
   },
   "outputs": [],
   "source": [
    "!csvstat food.csv"
   ]
  },
  {
   "cell_type": "code",
   "execution_count": null,
   "metadata": {
    "collapsed": true
   },
   "outputs": [],
   "source": [
    "##What do all the columns mean?\n",
    "\n",
    "1: FACILITY_NAME is the name of inspection facility\n",
    "\n",
    "2: FACILITY_KEY is the unique identification key of the inspection facility\n",
    "\n",
    "3: SITE_ADDRESS is the stress address of the inspection facility\n",
    "\n",
    "4: CITY is the city of the inspection facility\n",
    "\n",
    "5: STATE is the state of the inspection facility\n",
    "\n",
    "6: ZIP is the zip of the inspection facility\n",
    "\n",
    "7: OWNER_KEY is the unique identification key of the owner of inspection facility\n",
    "\n",
    "8: OWNER_NAME is the name of the owner of the inspection facility\n",
    "\n",
    "9: NATURE_OF_BUSINESS is the type of business\n",
    "\n",
    "10: STREET_NUMBER is the stress number of the inspection facility\n",
    "\n",
    "11: STREET_NAME is the stress name of the inspection facility\n",
    "\n",
    "12: STREET_TYPE is the stress type of the inspection facility\n",
    "\n",
    "13: POST_DIRECTIONAL is the postical direction of the inspection facility\n",
    "\n",
    "14: PHONE is the phone of the inspection facility\n",
    "\n",
    "15: PROGRAM_CATEGORY is the id that indicate the type of facility inspection\n",
    "\n",
    "16: PROGRAM_CATEGORY_DESCRIPTION is the description of the id that indicate the type of facility inspection\n",
    "\n",
    "17: INSPECTION_DATE is the date of inspection\n",
    "\n",
    "18: INSPECTION_TYPE is code for type of inspection\n",
    "\n",
    "19: INSPECTION_DESC is the description of inspection type\n",
    "\n",
    "20: SERIAL_NUM is the unique id for the inspection activity\n",
    "\n",
    "21: ACTION_CODE is the code of taken action\n",
    "\n",
    "22: ACTION_DESC is the description of take action\n",
    "\n",
    "23: RESULT_CODE is the code of inspection result\n",
    "\n",
    "24: RESULT_DESC is the description of inspection result\n",
    "\n",
    "25: VIOLATION_CODE is the code for the violation\n",
    "\n",
    "26: VIOLATION_DESC is the escription of the violation\n",
    "\n",
    "27: INSPECTION_MEMO is the note from the inspection"
   ]
  },
  {
   "cell_type": "markdown",
   "metadata": {},
   "source": [
    "## Problem 2 - define a database model and load the data (35 points)\n",
    "\n",
    "Based on what you found above, create and connect to a new database, define a database table in it, and load this dataset into it.  You may use either of the methods for this step you have seen in earlier class notebooks.  You may choose to eliminate variables/columns if they are not relevant or interesting to you - explain your reasoning if you do.  Either way, you should load a majority of the columns present in the source dataset into the database and all of its rows.\n",
    "\n",
    "Once your data has loaded successfully, run a `COUNT(*)` query to verify that all the data has loaded correctly.\n",
    "\n",
    "Insert a combination of code and text/markdown cells here to connect to your database, define your table, load its data, and verify the loaded records."
   ]
  },
  {
   "cell_type": "code",
   "execution_count": null,
   "metadata": {
    "collapsed": false
   },
   "outputs": [],
   "source": [
    "%load_ext mysql"
   ]
  },
  {
   "cell_type": "code",
   "execution_count": null,
   "metadata": {
    "collapsed": false
   },
   "outputs": [],
   "source": [
    "!echo 'redspot' | sudo -S service postgresql restart"
   ]
  },
  {
   "cell_type": "markdown",
   "metadata": {},
   "source": []
  },
  {
   "cell_type": "code",
   "execution_count": null,
   "metadata": {
    "collapsed": false
   },
   "outputs": [],
   "source": [
    "!createdb -U dbuser exercise04"
   ]
  },
  {
   "cell_type": "code",
   "execution_count": null,
   "metadata": {
    "collapsed": true
   },
   "outputs": [],
   "source": [
    "%sql postgresql://dbuser@localhost:5432/exercise04"
   ]
  },
  {
   "cell_type": "code",
   "execution_count": null,
   "metadata": {
    "collapsed": false
   },
   "outputs": [],
   "source": [
    "%%sql\n",
    "DROP TABLE IF EXISTS food;\n",
    "CREATE TABLE food \n",
    "(\n",
    "    FACILITY_NAME VARCHAR(80),\n",
    "    FACILITY_KEY INTEGER,\n",
    "    SITE_ADDRESS VARCHAR(40),\n",
    "    CITY VARCHAR(12),\n",
    "    STATE CHAR(2),\n",
    "    ZIP CHAR(10),\n",
    "    OWNER_KEY INTEGER,\n",
    "    OWNER_NAME VARCHAR(85),\n",
    "    NATURE_OF_BUSINESS VARCHAR(25),\n",
    "    STREET_NUMBER  VARCHAR(7),\n",
    "    STREET_NAME VARCHAR(24),\n",
    "    STREET_TYPE VARCHAR(4),\n",
    "    POST_DIRECTIONAL VARCHAR(3),\n",
    "    PHONE CHAR(15),\n",
    "    PROGRAM_CATEGORY VARCHAR(4),\n",
    "    PROGRAM_CATEGORY_DESCRIPTION VARCHAR(40),\n",
    "    INSPECTION_DATE TIMESTAMP,\n",
    "    INSPECTION_TYPE VARCHAR(4),\n",
    "    INSPECTION_DESC VARCHAR(32),\n",
    "    SERIAL_NUM VARCHAR(9),\n",
    "    ACTION_CODE VARCHAR(2),\n",
    "    ACTION_DESC VARCHAR(40),\n",
    "    RESULT_CODE VARCHAR(2),\n",
    "    RESULT_DESC VARCHAR(40),\n",
    "    VIOLATION_CODE VARCHAR(10),\n",
    "    VIOLATION_DESC VARCHAR(50),\n",
    "    INSPECTION_MEMO VARCHAR(50)\n",
    ")"
   ]
  },
  {
   "cell_type": "code",
   "execution_count": null,
   "metadata": {
    "collapsed": true
   },
   "outputs": [],
   "source": [
    "%%sql\n",
    "COPY food FROM '/home/jovyan/work/food.csv'\n",
    "CSV\n",
    "HEADER\n",
    "QUOTE '\"'\n",
    "DELIMITER ',';"
   ]
  },
  {
   "cell_type": "code",
   "execution_count": null,
   "metadata": {
    "collapsed": false
   },
   "outputs": [],
   "source": [
    "%%sql\n",
    "SELECT COUNT(*) FROM food;"
   ]
  },
  {
   "cell_type": "markdown",
   "metadata": {},
   "source": [
    "## Problem 3 - explore your data (30 points)\n",
    "\n",
    "Now that the data is loaded, ask some questions of it!  Identify key variables of interest and note their ranges along with other useful descriptive statistics.  Choose and define a few lines of inquiry, execute queries for each, and describe what you find in your result sets.  Use any query techniques we've seen in class, including aggregate functions, transformations, subqueries, or others as appropriate. \n",
    "\n",
    "If you find interesting patterns, adding plots to your exploration would be useful.\n",
    "\n",
    "Insert a combination of code and text/markdown cells here to explore your data."
   ]
  },
  {
   "cell_type": "code",
   "execution_count": null,
   "metadata": {
    "collapsed": true
   },
   "outputs": [],
   "source": [
    "%%sql\n",
    "SELECT sub.* FROM\n",
    " (\n",
    "  SELECT facility_name,count(*) As count FROM food\n",
    "    Group by facility_name\n",
    "    )sub\n",
    "ORDER BY count DESC\n",
    "LIMIT 5"
   ]
  },
  {
   "cell_type": "code",
   "execution_count": null,
   "metadata": {
    "collapsed": true
   },
   "outputs": [],
   "source": [
    "%%sql\n",
    "SELECT sub.* FROM\n",
    " (\n",
    "  SELECT zip_address,count(*) As count FROM food\n",
    "    Group by zip_address\n",
    "    )sub\n",
    "ORDER BY count DESC\n",
    "LIMIT 5"
   ]
  },
  {
   "cell_type": "code",
   "execution_count": null,
   "metadata": {
    "collapsed": true
   },
   "outputs": [],
   "source": [
    "%%sql\n",
    "\n",
    "SELECT inspection_des,count(*) as count FROM food\n",
    "GROUP BY inspection_des\n",
    "ORDER BY count desc"
   ]
  },
  {
   "cell_type": "code",
   "execution_count": null,
   "metadata": {
    "collapsed": true
   },
   "outputs": [],
   "source": [
    "%%sql\n",
    "SELECT action_code FROM food\n",
    "WHERE inspection_des='EMERGENCY RESPONSE'"
   ]
  },
  {
   "cell_type": "code",
   "execution_count": null,
   "metadata": {
    "collapsed": true
   },
   "outputs": [],
   "source": [
    "%%sql \n",
    "CREATE TABLE T1 AS\n",
    "(\n",
    "SELECT zip_address,inspection_date FROM food\n",
    "WHERE inspection_des='EMERGENCY RESPONSE'\n",
    ")"
   ]
  },
  {
   "cell_type": "code",
   "execution_count": null,
   "metadata": {
    "collapsed": true
   },
   "outputs": [],
   "source": [
    "%%sql\n",
    "\n",
    "SELECT * FROM T1"
   ]
  },
  {
   "cell_type": "code",
   "execution_count": null,
   "metadata": {
    "collapsed": true
   },
   "outputs": [],
   "source": [
    "%%sql\n",
    "SELECT sub.* FROM\n",
    " (\n",
    "  SELECT zip_address,count(*) AS count FROM T1\n",
    "    Group BY zip_address\n",
    "    )SUB\n",
    "ORDER BY count DESC\n",
    "LIMIT 5"
   ]
  },
  {
   "cell_type": "code",
   "execution_count": null,
   "metadata": {
    "collapsed": true
   },
   "outputs": [],
   "source": [
    "%%sql\n",
    "SELECT sub.* FROM\n",
    " (\n",
    "  SELECT inspection_date,count(*) As count FROM T1\n",
    "    Group BY inspection_date\n",
    "    )sub\n",
    "ORDER BY count DESC\n",
    "LIMIT 5"
   ]
  },
  {
   "cell_type": "markdown",
   "metadata": {},
   "source": [
    "## Bonus (10 points)\n",
    "\n",
    "We have seen a few simple techniques for normalizing data in class.  Choose a column or set of columns that might be redundant and normalize them out to another table:\n",
    "\n",
    "* Identify the columns to normalize in the source data table\n",
    "* Create one or more new tables to hold the normalized records\n",
    "* Extract data into the new tables\n",
    "* Re-insert the new foreign key references from the new table into the source table"
   ]
  }
 ],
 "metadata": {
  "anaconda-cloud": {},
  "kernelspec": {
   "display_name": "Python [conda env:ipykernel_py2]",
   "language": "python",
   "name": "conda-env-ipykernel_py2-py"
  },
  "language_info": {
   "codemirror_mode": {
    "name": "ipython",
    "version": 2
   },
   "file_extension": ".py",
   "mimetype": "text/x-python",
   "name": "python",
   "nbconvert_exporter": "python",
   "pygments_lexer": "ipython2",
   "version": "2.7.12"
  }
 },
 "nbformat": 4,
 "nbformat_minor": 1
}
